{
  "nbformat": 4,
  "nbformat_minor": 0,
  "metadata": {
    "colab": {
      "provenance": [],
      "authorship_tag": "ABX9TyNIB1m9UkoVUl2465zf50/q",
      "include_colab_link": true
    },
    "kernelspec": {
      "name": "python3",
      "display_name": "Python 3"
    },
    "language_info": {
      "name": "python"
    }
  },
  "cells": [
    {
      "cell_type": "markdown",
      "metadata": {
        "id": "view-in-github",
        "colab_type": "text"
      },
      "source": [
        "<a href=\"https://colab.research.google.com/github/hisakei1987/python_fundamentals/blob/master/Intro_to_Python.ipynb\" target=\"_parent\"><img src=\"https://colab.research.google.com/assets/colab-badge.svg\" alt=\"Open In Colab\"/></a>"
      ]
    },
    {
      "cell_type": "markdown",
      "source": [
        "Basic Python syntax"
      ],
      "metadata": {
        "id": "prpBrpiuXEua"
      }
    },
    {
      "cell_type": "code",
      "source": [],
      "metadata": {
        "id": "wmMzkNV5xJsn"
      },
      "execution_count": null,
      "outputs": []
    },
    {
      "cell_type": "markdown",
      "source": [],
      "metadata": {
        "id": "UaIHX3nPXEq4"
      }
    },
    {
      "cell_type": "markdown",
      "source": [],
      "metadata": {
        "id": "sNl320xKXEn2"
      }
    },
    {
      "cell_type": "markdown",
      "source": [],
      "metadata": {
        "id": "AtELCOgeXEkV"
      }
    },
    {
      "cell_type": "markdown",
      "source": [],
      "metadata": {
        "id": "g2jUIdEuXEho"
      }
    },
    {
      "cell_type": "markdown",
      "source": [],
      "metadata": {
        "id": "6s_vxZ2zXEeP"
      }
    },
    {
      "cell_type": "markdown",
      "source": [],
      "metadata": {
        "id": "Vyf6AI4iXEbM"
      }
    },
    {
      "cell_type": "markdown",
      "source": [],
      "metadata": {
        "id": "37IQLZJEXEYZ"
      }
    },
    {
      "cell_type": "markdown",
      "source": [],
      "metadata": {
        "id": "E1rl9fW2XEVN"
      }
    },
    {
      "cell_type": "markdown",
      "source": [],
      "metadata": {
        "id": "by_fXx-GXEOa"
      }
    },
    {
      "cell_type": "markdown",
      "source": [],
      "metadata": {
        "id": "wUfur6KYXEKq"
      }
    },
    {
      "cell_type": "markdown",
      "source": [],
      "metadata": {
        "id": "ICZ7383oXEDi"
      }
    },
    {
      "cell_type": "markdown",
      "source": [],
      "metadata": {
        "id": "sXWywbeDBji4"
      }
    },
    {
      "cell_type": "markdown",
      "source": [],
      "metadata": {
        "id": "ywwV0jz_XD2L"
      }
    },
    {
      "cell_type": "markdown",
      "source": [
        "Instruction: Using arrays in numpy"
      ],
      "metadata": {
        "id": "22qXJ6i-ZgEY"
      }
    },
    {
      "cell_type": "code",
      "execution_count": null,
      "metadata": {
        "id": "skqmmz4O7ZJf"
      },
      "outputs": [],
      "source": [
        "import numpy as np"
      ]
    },
    {
      "cell_type": "code",
      "source": [
        "# Import numpy\n",
        "import numpy as np\n",
        "\n",
        "# Convert positions and heights to numpy arrays: np_positions, np_heights\n",
        "np_positions = np.array(positions)\n",
        "np_heights = np.array(heights)\n",
        "\n",
        "# Heights of the goalkeepers: gk_heights\n",
        "gk_heights = np_heights[np_positions == 'GK']\n",
        "\n",
        "# Heights of the other players: other_heights\n",
        "other_heights = np_heights[np_positions != 'GK']\n",
        "\n",
        "# Print out the median height of goalkeepers. Replace 'None'\n",
        "print(\"Median height of goalkeepers: \" + str(np.median(gk_heights)))\n",
        "\n",
        "# Print out the median height of other players. Replace 'None'\n",
        "print(\"Median height of other players: \" + str(np.median(other_heights)))\n"
      ],
      "metadata": {
        "id": "LA-9X1NtXMbb"
      },
      "execution_count": null,
      "outputs": []
    },
    {
      "cell_type": "markdown",
      "source": [
        "while loop"
      ],
      "metadata": {
        "id": "1NtWM_FRSWV6"
      }
    },
    {
      "cell_type": "code",
      "source": [
        "x = 1\n",
        "while x < 4 :\n",
        "  print(x)\n",
        "  x = x + 1"
      ],
      "metadata": {
        "id": "_g352y1IClN-"
      },
      "execution_count": null,
      "outputs": []
    },
    {
      "cell_type": "markdown",
      "source": [
        "for loop"
      ],
      "metadata": {
        "id": "OSBytGiwKC2S"
      }
    },
    {
      "cell_type": "code",
      "source": [
        "for var in seq:\n",
        "  expression\n",
        "\n",
        "#for each variable in seq (aka list), execute expression\""
      ],
      "metadata": {
        "id": "-kEjbwZ9KKB0"
      },
      "execution_count": null,
      "outputs": []
    },
    {
      "cell_type": "code",
      "source": [
        "#enumerate\n",
        "for var in seq:\n",
        "  expression\n",
        "\n",
        "#example\n",
        "fam = [1.73, 1.68, 1.71, 1.89]\n",
        "for index, height in enumerate(fam):\n",
        "  print(\"index \" + str(index) + \": \" + str(height))\n",
        "\n",
        "#note: need to convert to strings before the print elements can be added together.\n",
        "#note: can adapt str(index) to adjust the count of the printout. e.g., str(index+1), so the label \"Room\" starts at \"Room 1\" instead of \"Room 0\""
      ],
      "metadata": {
        "id": "af9JiFHgK3RR"
      },
      "execution_count": null,
      "outputs": []
    },
    {
      "cell_type": "code",
      "source": [
        "#loop over string\n",
        "\n",
        "#example\n",
        "for c in \"family\":\n",
        "  print(c.capitalize())\n",
        "\n",
        "#result: six different printouts"
      ],
      "metadata": {
        "id": "05fKtU44LmAJ"
      },
      "execution_count": null,
      "outputs": []
    },
    {
      "cell_type": "code",
      "source": [
        "#loop over list\n",
        "\n",
        "#example\n",
        "for x in house: #house is a list\n",
        "  print(\"text \" + x[0] + \"text\" + str(x[1]) + \"unit\")\n",
        "\n",
        "#be careful not to use \"house\" as that would lead to reiterating over house as a string, and not the list.\n",
        "#use x[0] to access the name of the room (depends on the index value of the label) and x[1] to access the corresponding area, depending on the index value of the relevant variable."
      ],
      "metadata": {
        "id": "iUaRvG0ZRhej"
      },
      "execution_count": null,
      "outputs": []
    }
  ]
}